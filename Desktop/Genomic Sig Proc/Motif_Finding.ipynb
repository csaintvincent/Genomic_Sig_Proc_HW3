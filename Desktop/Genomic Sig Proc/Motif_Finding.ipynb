{
 "cells": [
  {
   "cell_type": "code",
   "execution_count": 22,
   "metadata": {
    "collapsed": true
   },
   "outputs": [],
   "source": [
    "import numpy as np\n",
    "from numba import jit\n",
    "import matplotlib\n",
    "\n",
    "class EM_algorithm(object):\n",
    "    def __init__(self,Q,Q_0,w, seq_array):\n",
    "        \n",
    "        self.Q = Q\n",
    "        self.Q_0 = Q_0\n",
    "        self.w = w\n",
    "        self.seq_array = seq_array\n",
    "        self.number_of_sequences = len(self.seq_array[:])\n",
    "        self.sequence_length = len(self.seq_array[1][:])\n",
    "        \n",
    "    def get_Q_row(self, c):\n",
    "        if c == 'A':\n",
    "            return 0\n",
    "        elif c == 'C':\n",
    "            return 1\n",
    "        elif c == 'G':\n",
    "            return 2\n",
    "        elif c == 'T':\n",
    "            return 3\n",
    "        else:\n",
    "            print(\"Not valid\")\n",
    "            return\n",
    "    \n",
    "    def z_ij(self):\n",
    "        z = np.array([[1 for x in range(self.sequence_length)] for y in range(self.number_of_sequences)], dtype=np.double)\n",
    "        \n",
    "        for i in range(self.number_of_sequences):\n",
    "            \n",
    "            ith_sequence = self.seq_array[i][:]\n",
    "            den = self.denominator(ith_sequence)\n",
    "            \n",
    "            for j in range(self.sequence_length - self.w + 1):\n",
    "                \n",
    "                num = self.numerator(ith_sequence,j)\n",
    "                z[i,j] = np.divide(num,den)\n",
    "        \n",
    "        self.z = z\n",
    "                \n",
    "        return self.z\n",
    "    \n",
    "    def numerator(self,ith_sequence,j):\n",
    "        scale_factor = np.double(40)\n",
    "        prod1 = np.double(1)\n",
    "        prod2 = np.double(1)\n",
    "        prod3 = np.double(1)\n",
    "        \n",
    "        if j>0:\n",
    "            for row in range(0,j):\n",
    "                q_row = self.get_Q_row(ith_sequence[row])\n",
    "                prod1 *= np.multiply(self.Q_0[q_row,0],scale_factor)\n",
    "        else:\n",
    "            q_row = self.get_Q_row(ith_sequence[0])\n",
    "            prod1 *= np.multiply(self.Q_0[q_row,0],scale_factor)\n",
    "            \n",
    "\n",
    "        i = 1\n",
    "        for row in range(j,j+w-1):\n",
    "            q_row = self.get_Q_row(ith_sequence[row])\n",
    "            prod2 *= np.multiply(self.Q[q_row,i],scale_factor)\n",
    "            i += 1\n",
    "        \n",
    "        for row in range(j+w,self.sequence_length):\n",
    "            q_row = self.get_Q_row(ith_sequence[row])\n",
    "            prod3 *= np.multiply(self.Q_0[q_row,0],scale_factor)\n",
    "            \n",
    "        return np.multiply(np.multiply(prod1,prod2),prod3)\n",
    "    \n",
    "    def denominator(self, ith_sequence):\n",
    "        accumulator = np.double(0)\n",
    "        for k in range(self.sequence_length - self.w):\n",
    "            accumulator += self.numerator(ith_sequence,k)\n",
    "        return accumulator \n",
    "                \n",
    "        return accumulator\n",
    "    def update_Q_z(self,num_updates):\n",
    "        self.z = self.z_ij()\n",
    "        \n",
    "        for i in range(num_updates):\n",
    "            self.Q = self.Q_estimate()\n",
    "            self.z = self.z_ij()     \n",
    "        return\n",
    "    def Q_estimate(self):\n",
    "        q_est = np.array([[0 for x in range(self.w)] for y in range(4)])\n",
    "        den = self.q_denominator()\n",
    "        chars = ['A','C','G','T']\n",
    "        \n",
    "        for k in range(self.w):\n",
    "            for b in range(4):\n",
    "                num = self.q_numerator(k,chars[b])\n",
    "                q_est[b,k] = np.divide(num,den)\n",
    "                \n",
    "        return q_est\n",
    "    \n",
    "    # Check here for errors.... k and j might be mixed up\n",
    "    def q_denominator(self):\n",
    "        accumulator = np.double(0)\n",
    "        for i in range(self.number_of_sequences):\n",
    "            for j in range(self.sequence_length - self.w):\n",
    "                accumulator += self.z[i,j]\n",
    "                \n",
    "        return accumulator\n",
    "    \n",
    "    def q_numerator(self,k,c):\n",
    "        accumulator = np.double(0)\n",
    "        for i in range(self.number_of_sequences):\n",
    "            seq_of_interest = self.seq_array[i][:]\n",
    "            for j in range(self.sequence_length - self.w):\n",
    "                if seq_of_interest[j + k - 1] == c:\n",
    "                    accumulator += self.z[i,j]\n",
    "                    \n",
    "        return accumulator\n",
    "#    def string_EM(self,num_similar):\n",
    "#        function [ s ] = string_EM( seq_array, Acon,w, num_similar )\n",
    "#        index = 1;\n",
    "#        for row = 1:num_sequences\n",
    "#        seq_interest = seq_array(row,:);\n",
    "#        [val, ind] = sort(Acon(row,:), 'descend');\n",
    "#        for i = 1:num_similar\n",
    "#        \n",
    "#       s(index,:) = seq_interest(ind(i):(ind(i) + w -1));\n",
    "#        index = index + 1;\n",
    "        \n"
   ]
  },
  {
   "cell_type": "code",
   "execution_count": 23,
   "metadata": {
    "collapsed": true
   },
   "outputs": [],
   "source": [
    "w = 7\n",
    "Q = np.array([[0.25 for x in range(w)] for y in range(4)], dtype=np.double)\n",
    "Q_0 = np.array([[0.25 for x in range(1)] for y in range(4)], dtype=np.double)"
   ]
  },
  {
   "cell_type": "code",
   "execution_count": 24,
   "metadata": {
    "collapsed": true
   },
   "outputs": [],
   "source": [
    "seq_array1 = ['AAAGTAGAAAACTTGAGCACTTATTTCCTGCGCATGTCATATGTTAATTTTCCTCAACTGCGCTGAATACGTCCTGTCAATTCAAATATATCACGTTGTGAGCAGCCCTGAAGAAGAAAACCTCAACAGCAGTATTACTATTACAATCAAACAACTTTAGTGCCGCGTGATACCGGGGGTTGAAGTGGGTGCATTGAGCCGTATTCTTCTTCCCCGTAAGAAAGTTGTGTATCCTTTTTACTGCGTTGTAATAGCTTCTGAAAACCTAAAAAATGAACGCTATGTAGCTCATATCCGTTTTGCATAAGTAAGAATAACTACTTGTGCAGGGTGCCGAAAGGGATGGAAAACCGCTGCAGCAACCCTTGTTACATACAGTCGGATCCATCTGACTTACTTTCCTTGCGTCTCCCTGCGCGATTTTGTTGGCCATTTTCCAGATCCTCTAGAATTTTTCAAGGGTCGAGCCGTAGGAGGATTCTCTCAGAAGGCAAAAACGCATCGAAAGCGTGCTTTGTAAGAATATTTGGTATGGCTAAAGTAAGCAAAGCCATATCCCGATCCCGATCCCGACTCTTATTCCGATCCCTTCCGCCACATCCTGCATGTTTATTCGAATACCAAATTAGCTCATCTTCGTTATTTCATCATCCCTTTCTGCTATGGCAAGGACAAGTTTTTTTCTAGCATCTCATCGAAAACTTTCCTCTCCCTAATTGGCCAAAGTTTTCATATTCATCATCAGTTAGAAAGTATAATATCAATCCCTTACCTCATTACAAGTTGTATCACACTAAAAAAATCATATATAAGTCTGTGAGAGTCTTCAATTATTTAGCGTAACACCTATTCACTTTCTAATCTTGTTTCTTGTTTTTACATTCTGCAATACAACACAACAACAAATATTAACTCAATTATTATTATTTATAATTACAAAAACAAAACAACAAGTTTGAGACTTTAATATCTTTTGATTACTAAAAACAACAAATTTCAA',\n",
    "              'ACCTGTAACTATGTTGGCACAAACGAAAAAAGTTTTGAGCTTAAGCACGCCTGAAAAGAAAATGTCCAAGAGTGATCCGAATCACGACTCTGTAATTTTTTTGAATGATGAGCCTAAGGCAATTCAGAAAAAGATTAGAAAAGCTTTAACAGATTCCATTTCTGATAGGTTCTACTACGACCCTGTAGAAAGACCAGGCGTATCGAATTTAATTAACATTGTCAGTGGCATTCAAAGAAAATCGATTGAAGATGTCGTAGAAGATGTATCTCGTTTCAATAACTATAGGGATTTCAAAGATTATGTTTCAGAAGTGATAATTGAGGAATTGAAAGGCCCAAGAACAGAATTTGAGAAATATATCAACGAACCGACCTATTTGCATAGTGTCGTTGAATCTGGCATGCGCAAAGCGAGAGAAAAAGCAGCAAAAAACCTGGCCGACATTCATAAAATAATGGGCTTCTGACTGTCCCCGGCTTTAGGCTGCTGCAAACGCAATGTAAATAATAATACAGTTTAACTTGTACGTATCTTTGTTATTTCAGAATATGCAAGATTCCTCACTCGGCAGATCTCATCAATAAACGTTAGTATCTTGAAAAATACGCAGATGTTGGTACAGTCTCTTGCAGAGGGCCAGCACCGTTAGAATGTTGTGTTGCCACCGTCTGGCTCGAAAACAGGTCGATCTGTGTAAGTATTGTCCTGGGTGCAGTTATTTGTAGTAGCGATTTTCGCGGGCAGTGGAAAAGAACGGGTGCAGTGCGGCGATGAGTGCAATTAGCTGCCGAAGGGTTTGCACCGGTGATTCCGAGACCTTTTGCACACACTTGTATATATTTAGGGAAGTCACGGTAACTAATGGATTTCTTCTCAAATTTGAGACATATGGATTAGACTTTAATTCTGCCTGGTACTAAGCTACTTTTCAAAGGTATTTGAGATATTTCGTAAATTTTGCGGCCAAGGAGTTGAGGTGTTTAATACTTAAAACGAA',\n",
    "              'GTGCAGACTAATGAAAAAGACCCCAGACCCATCTCCACCTTTTGCAAGCACGAAGAACGTAGGCATGTCAAACGAAGAACCGGAAAAAATGGTTAACGATCGAATTGTGGTGAAGGCCATCGAGCCAAAAGATGAGGAAGCCTGGAACAAACTGTGGAAGGAGTATCAGGGTTTCCAAAAAACGGTTATGCCTCCGGAAGTAGCCACCACTACCTTCGCAAGGTTTATAGACCCTACGGTCAAACTATGGGGTGCTCTAGCCTTTGACACCGAGACCGGCGATGCAATTGGCTTTGCACACTACCTGAACCATTTGACGTCGTGGCATGTCGAAGAAGTTGTCTACATGAATGACTTATATGTCACTGAACGCGCAAGAGTCAAAGGCGTAGGTAGAAAGCTCATAGAATTTGTATACAGCCGTGCCGATGAGCTCGGTACGCCTGCAGTGTACTGGGTTACAGACCATTACAATCACCGCGCACAGTTGCTGTACACCAAAGTGGCTTACAAGACAGATAAGGTTCTTTACAAGAGAAACGGATACTGAAACCGCTGTGTAATGTAGACTACTGTGTATAGAGATAACTCTAGCTTCTATAGGCTCACTTGCGAAGCTTTTTTCCCACTTTTTCCCAGTGAAATAGTTTCTTATTGGCTTTTCATAGTTTGTTCTCCGATTTAATCGCAAGCGCCGTACGGCGCAGGCACAGAATGACTTGCAGCTTAATCCAGGTGCATTTTAAGAAACTTATCTGCTGGGAAGACCCCGAAGTTCATCGTTTACAATGTGCCGTAAAGAACACATTTGAGGGTGCAATCTGGTTCGTCTTTTGCCATAATTAGTAGTGCTCATCCGTGATCCTTTAATTTACTTTTGTGATGCGATGATTTGCAGATACTATATAAGCAATGGACACCGTCCATCACCGATGAGGCTAGAACATCGTAGTGCTTTGTAAAAGAACTGTTAAAGACCCAGTACGAAAATTTTTCCATA',\n",
    "              'AAGCCACTCGACAGCGTCTTCCAGTATAACGTTGACGAAGTCGTCGAAACCAACTAACGTGCCCTCGAACTCGCGGTTCGACTGCAGCACAATCAACACTTTCTGGTTAATTGTTTTATCTATGACTTCCAAAGGCAAAATCTCCGGTAGACTCATTTTGCGCGCTTCTGTGTATGCTTGTGAGTGCACGTGTATACGCTATGCTTGTTGTGAGACCATCTATCCGCCAAGGAAGCCTTTTTCGCTTTCTCTGTATTTTTTCTACTTCAATAAGAAAGCAAGTATTCTGTTTTGCTACCCGGATGCAAAGACAAAACCCGAGCATCCGGGTAATAAAAGAGCAGGGTCCGGCTGAAGGTGCCAAAAAAGACCAAAAAGGGCTATATTATCTCTCTCTTACGATTGCCTCTGGTTAAAAAATGAAATAGATAATAAAAGGGCAGCAAAGAAAAAAAAGAAGAATACAATATACGTATACGTTCTCAACAATTTTTCGTCCTGTTTTTTTCTTGACCACGGTCACTACTAACTCCTGAGACATCAGACCAACGTGTAGAAAAAAAGAAATCGGGTCCGGCACTGACACACGCTCTGCGCCAATCAACCAGGGCGCATCGAGCATTCTTTCCAGGCCAGGGTGCAGAAATACTATTATTAAGTGCGCGAATACTGCTGGTGCATTAAACGAGCGAGTACAGTGAGCCCGCCGCTGACTGCCGACTCACGCCAGGCCGCTATTTCCTTCCCCCGCCCGCGTAAGCCGTGCCGAGCACCGTCGCAGCAGTAAGAAGGTGCGCATTTCATTCTCTGCACAGCGTAGATGAATGCACCCGATTTCTAAGTTGGTGTTGCAAGGCCCGGTGGAAGCGATGGGCTGTAGTTCGACCTTGAGCTTTTAGTTATATAAAATGCTCAATGTGAGCAAAAAAATACATAACACGACGGATTGTACGTTGTCGAAATCTTCTCTCAGCAGGTCATCACACATATACTTCCCGCC',\n",
    "              'CCAAACCTGAATCCTTAATTTACGGTACAGCGCCCGGTCATGTTCCCCGATTGCCTGTTTCAAAAACGATAGCAGCACGGAAATAACAATCACTGCTTCCAAGCACTCTCTGAACACAACGAAGAAAACGGCCACGTTAAACACTTTGTTAGGCATGGCGGGAAGTATATGTGTGATGACCTGCTGAGAGAAGATTTCGACAACGTACAATCCGTCGTGTTATGTATTTTTTTGCTCACATTGAGCATTTTATATAACTAAAAGCTCAAGGTCGAACTACAGCCCATCGCTTCCACCGGGCCTTGCAACACCAACTTAGAAATCGGGTGCATTCATCTACGCTGTGCAGAGAATGAAATGCGCACCTTCTTACTGCTGCGACGGTGCTCGGCACGGCTTACGCGGGCGGGGGAAGGAAATAGCGGCCTGGCGTGAGTCGGCAGTCAGCGGCGGGCTCACTGTACTCGCTCGTTTAATGCACCAGCAGTATTCGCGCACTTAATAATAGTATTTCTGCACCCTGGCCTGGAAAGAATGCTCGATGCGCCCTGGTTGATTGGCGCAGAGCGTGTGTCAGTGCCGGACCCGATTTCTTTTTTTCTACACGTTGGTCTGATGTCTCAGGAGTTAGTAGTGACCGTGGTCAAGAAAAAAACAGGACGAAAAATTGTTGAGAACGTATACGTATATTGTATTCTTCTTTTTTTTCTTTGCTGCCCTTTTATTATCTATTTCATTTTTTAACCAGAGGCAATCGTAAGAGAGAGATAATATAGCCCTTTTTGGTCTTTTTTGGCACCTTCAGCCGGACCCTGCTCTTTTATTACCCGGATGCTCGGGTTTTGTCTTTGCATCCGGGTAGCAAAACAGAATACTTGCTTTCTTATTGAAGTAGAAAAAATACAGAGAAAGCGAAAAAGGCTTCCTTGGCGGATAGATGGTCTCACAACAAGCATAGCGTATACACGTGCACTCACAAGCATACACAGAAGCGCGCAAA',\n",
    "              'AAGGACAGAGAAATTCATATTAAGAGAGCTAGAACTCCAGGCCAAATGCAAAGAGGAGGTTTCAGAGGCAGAGGCGGTTTCAGAGGCAGAGGAGGTTTTAGAGGAGGTTTCAGAGGCGGCTACAGAGGAGGTTTCAGAGGCAGAGGGAACTTCAGAGGTAGAGGCGGCGCCAGAGGTGGTTTCAATGGACAAAAAAGGGAAAAGATTCCATTAGACCAAATGGAAAGATCAAAGGATACCTTATATATTAATAACGTCCCATTCAAAGCTACCAAAGAGGAGGTCGCTGAATTTTTCGGTACTGACGCCGACTCCATCTCTTTGCCAATGAGAAAAATGAGAGACCAACACACTGGTAGGATCTTCACATCCGATTCTGCTAATAGAGGTATGGCATTTGTCACTTTCAGTGGTGAAAACGTTGATATTGAAGCTAAAGCTGAAGAATTTAAAGGCAAGGTTTTCGGTGACAGGGAGTTAACTGTAGATGTTGCTGTTATTAGACCAGAAAATGATGAAGAAGAAATTGAGCAAGAAACTGGTTCTGAAGAAAAGCAAGAATAATTACTTCTTACCCACATCCCTATTTCTAACTTGAGTTTTTGCTAGAGTTTTGTATTTTTGTTCACCTTCCCTGCAAAAGAAATATGTGTATTTATATATGCGTGTATACCTATATATGATATGTAAAAATGAGACGCCCCTGTTTTATTTTCAAACACTTCCCCGTATAGTTTTTTGCAATGACACTACTTTAACTTCTTCGACATGATTTGCTTTAGCACTACGAAGGATTGCATCATAACGTTTCGAAAGGGGTGCACTTTTAAAAACCAGTAAGTGAGTGCCTCGTGAACTGCTATTTTCGTATTTTGAAAAAAAAAATAAAAAAAAACTCCCTTATATATATATATAAATATCTATGTACTAAATGTCAAATCGCTAGCTCTCACCTATATCTTATTCATGCTGCAACCTCAATGGTTCACTACCTCGGAGA',\n",
    "              'ACAGAATTTCAAGAGTAGCTTTGCAGATAGCCATGTTGATGAGCAATACTTTGCGTACAAATACAACCTTTTGCAGACATCGTATATGGCCATGTGCACAGCTAATTTTTCTCACAATTGGTGCCAATTATATGTGGATATGAGATATCTAATAGAACGAGATGAAAAGCTGTATAGAATAAAAGAATTAACAAGGAACCTGCTGGAAACTAAACTGAACATGAAATATCGTATTGTCTGTCAACTAATCAGGCATCAATTGACCGAATTTCGTGAGAACGAGAGAAATCCATCGTGGGACGCCACCATTGAGAAACTGCTACCTTATATCTTGAAGGAAATTGTTCGTCCACTGCAGAAAATAAGAGGTGAAGAAGGTTCCCGTTACTTGTTGTCTTTCTTAAACTTTTTATATAACGATTGCGTGACAAAGGAAATATTAAAATGGCAGATTATCTCTGAGGTCAATTCCGAAAATTTGGGTGAGCTCGTATCTTTATTAGTGAACAACACCGATATACAATTATTAGCGAAGGAACCAAGTTACAAAAAGATGAGAGAAAAATTCGCCACTATGGGCAAGTTTCTACCATTACATTTAAAGGAGATTATGGAGATGTTTTACAATGGGGATTTTTATCTTTTTGCGACAGACGAACTAATCCAATGGATAGAGTTATTGTTTGCCGACACTCCCCTGCGAAGGAATGCCATTGATGATATTTACGAAATTAGAGGCACTGCTCTAGATGATTAAAAAATAATTAATCGTAGGATAGGTTACATGATCATTGCAATAGATGTACATCTTGTATTACGTATGCGTAAGTTGTCTTTTTTTCAGTTTTCTAATAAATTTCACGTGATGCGGTAGTTTTTTTTGGGGGTGCAAAGTTGGCACATCTTGTAGTGCATTTTTGAGCTTCTTAAATGACTTGAATCATCTTAAAACATTGCAGGATGAGATTTCCAACGACACAAGAGAGAACTAGCGCAAAAG',\n",
    "              'TTCGTTATGCTGGACGCTCTCAAAACCCCCATGGCATTCACAGGTCTGATGGCCATCAGAGCAGGCCTTGCAAATCTCGTTATAACAGGAAGCATCAGGTTAAATATGTGTTATGTGTTGTGTTTTCCTTATTCAATTGTTATATGAAGGGATGTTCTTATGGATTTAAGAATAATCTCTGAACACAAATATATATGCGGAAGAGCGAAGGAAGAGAGCAGAAAAGGCTACAACGAAACCCTTTCATTTACTTATATAAATAGCCTGAGTCATTTTTCCTCTCAATTTTTGCATCATCATGATCATACATGCTTTTTTTTTCCTTCTCCATGGCTAATTGGGGTGCAACGCACCTTATCGCCTTTGACGGCCTTGGCTAAGCGGAGATAAAGCCTCCGAACTTCGGCCCCGAAGGGATTGGCGCGGATATACACGGAAATAGCTTGTCATTTTTCCTTCGGTTGATGTCCGCGGACCGAGAAGTGGTGTTTCCACATTACGTCTCAGTGATGCAATCATCATGGCACGGGCATTAATTAAGGTTAAGGAACCACTTCTCTACGCCATACTCCAAACAATAACAATATTAGACCTAGCCAATTGATACCCATGAGCGTGCAGTCATTGCCATGGATTATTCATCTCTTTTCGCTGTTCTCTTTCTTTTCAAGTTTGTCATCATCATGCCTTCACTTTTGCCTTTCCATCTTTCTTTTTGCTGCAAAATAAAGGGAAGAGGGGTAAAAACGCAAGGAAGAACAAGAAGAAGAGGGTAGTGCAAGAAAAAGAAAAGAAGAAAAAAAAAAAAAAGTAATCTTGATACCGTGAGCAAATAAGCTAACGGAAAGCGTAAGAAAGAAGAGCGTGTTTTGGGAAATAACACCACAGCATAAAGCTAAAATTCAGTTTATATAATCTATAGTAGTCCTATAGAAATTGCGAATAACGGAAACAATAGTCCACCAAAGCAAGCATAGGGAGTGGAGATAGCATCTAGGTT'\n",
    "              ];"
   ]
  },
  {
   "cell_type": "code",
   "execution_count": 25,
   "metadata": {
    "collapsed": true
   },
   "outputs": [],
   "source": [
    "em_test = EM_algorithm(Q,Q_0,w,seq_array1)"
   ]
  },
  {
   "cell_type": "code",
   "execution_count": 26,
   "metadata": {},
   "outputs": [
    {
     "name": "stderr",
     "output_type": "stream",
     "text": [
      "/Users/Versace/anaconda3/lib/python3.6/site-packages/ipykernel_launcher.py:68: RuntimeWarning: overflow encountered in double_scalars\n",
      "/Users/Versace/anaconda3/lib/python3.6/site-packages/ipykernel_launcher.py:70: RuntimeWarning: overflow encountered in multiply\n",
      "/Users/Versace/anaconda3/lib/python3.6/site-packages/ipykernel_launcher.py:54: RuntimeWarning: overflow encountered in double_scalars\n",
      "/Users/Versace/anaconda3/lib/python3.6/site-packages/ipykernel_launcher.py:39: RuntimeWarning: invalid value encountered in true_divide\n"
     ]
    },
    {
     "data": {
      "text/plain": [
       "array([[ nan,  nan,  nan, ...,   1.,   1.,   1.],\n",
       "       [ nan,  nan,  nan, ...,   1.,   1.,   1.],\n",
       "       [ nan,  nan,  nan, ...,   1.,   1.,   1.],\n",
       "       ..., \n",
       "       [ nan,  nan,  nan, ...,   1.,   1.,   1.],\n",
       "       [ nan,  nan,  nan, ...,   1.,   1.,   1.],\n",
       "       [ nan,  nan,  nan, ...,   1.,   1.,   1.]])"
      ]
     },
     "execution_count": 26,
     "metadata": {},
     "output_type": "execute_result"
    }
   ],
   "source": [
    "em_test.z_ij()\n",
    "em_test.z"
   ]
  },
  {
   "cell_type": "code",
   "execution_count": 64,
   "metadata": {},
   "outputs": [
    {
     "data": {
      "text/plain": [
       "8"
      ]
     },
     "execution_count": 64,
     "metadata": {},
     "output_type": "execute_result"
    }
   ],
   "source": [
    "em_test.number_of_sequences"
   ]
  },
  {
   "cell_type": "code",
   "execution_count": 60,
   "metadata": {},
   "outputs": [
    {
     "data": {
      "text/plain": [
       "8"
      ]
     },
     "execution_count": 60,
     "metadata": {},
     "output_type": "execute_result"
    }
   ],
   "source": [
    "len(seq_array1[:])"
   ]
  },
  {
   "cell_type": "code",
   "execution_count": 36,
   "metadata": {},
   "outputs": [
    {
     "data": {
      "text/plain": [
       "8"
      ]
     },
     "execution_count": 36,
     "metadata": {},
     "output_type": "execute_result"
    }
   ],
   "source": [
    "len(em_test.z[:,0])"
   ]
  },
  {
   "cell_type": "code",
   "execution_count": 29,
   "metadata": {},
   "outputs": [
    {
     "data": {
      "text/plain": [
       "8.128548625557735e+96"
      ]
     },
     "execution_count": 29,
     "metadata": {},
     "output_type": "execute_result"
    }
   ],
   "source": [
    "#em_test.update_Q_z(2)\n",
    "np.double(2)\n",
    "np.multiply(np.double(2),np.double(2))\n",
    "np.power(np.double(1.25),1000)"
   ]
  },
  {
   "cell_type": "code",
   "execution_count": null,
   "metadata": {
    "collapsed": true
   },
   "outputs": [],
   "source": []
  },
  {
   "cell_type": "markdown",
   "metadata": {},
   "source": []
  }
 ],
 "metadata": {
  "kernelspec": {
   "display_name": "Python 3",
   "language": "python",
   "name": "python3"
  },
  "language_info": {
   "codemirror_mode": {
    "name": "ipython",
    "version": 3
   },
   "file_extension": ".py",
   "mimetype": "text/x-python",
   "name": "python",
   "nbconvert_exporter": "python",
   "pygments_lexer": "ipython3",
   "version": "3.6.3"
  }
 },
 "nbformat": 4,
 "nbformat_minor": 2
}
